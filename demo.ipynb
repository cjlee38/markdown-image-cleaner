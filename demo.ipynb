{
 "cells": [
  {
   "cell_type": "code",
   "execution_count": 46,
   "metadata": {},
   "outputs": [],
   "source": [
    "import os\n",
    "import sys\n",
    "import re\n",
    "from abc import *"
   ]
  },
  {
   "cell_type": "code",
   "execution_count": 48,
   "metadata": {},
   "outputs": [],
   "source": [
    "class Marker :\n",
    "    def __init__(self) :\n",
    "        self.pattern = re.compile(\".md$|.markdown$\")\n",
    "    def mark(self) :\n",
    "        md_files = []\n",
    "        for root, dir, files in os.walk(\".\") :\n",
    "            for file in files :\n",
    "                if self.pattern.search(file) is not None :\n",
    "                    md_files.append(root + file)\n",
    "        return md_files\n",
    "\n",
    "class Cleaner(metaclass = ABCMeta) :\n",
    "    \n",
    "    @abstractmethod\n",
    "    def clean(self):\n",
    "        pass\n",
    "    \n",
    "class Sweeper :\n",
    "    def __init__(self) :\n",
    "        pass\n",
    "    def clean(self) :\n",
    "        pass\n",
    "        \n",
    "'''\n",
    "# Todo\n",
    "root directory settings\n",
    "ignore folder or file settings\n",
    "'''\n",
    "if __name__ == \"__main__\" :\n",
    "    clean_type = sys.argv[1]\n",
    "    marker = Marker()\n",
    "    l = marker.mark()"
   ]
  },
  {
   "cell_type": "code",
   "execution_count": 44,
   "metadata": {},
   "outputs": [],
   "source": [
    "m = Marker()"
   ]
  },
  {
   "cell_type": "code",
   "execution_count": null,
   "metadata": {},
   "outputs": [],
   "source": []
  }
 ],
 "metadata": {
  "kernelspec": {
   "display_name": "Python 3",
   "language": "python",
   "name": "python3"
  },
  "language_info": {
   "codemirror_mode": {
    "name": "ipython",
    "version": 3
   },
   "file_extension": ".py",
   "mimetype": "text/x-python",
   "name": "python",
   "nbconvert_exporter": "python",
   "pygments_lexer": "ipython3",
   "version": "3.6.5"
  }
 },
 "nbformat": 4,
 "nbformat_minor": 2
}
