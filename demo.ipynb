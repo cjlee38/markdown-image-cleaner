{
 "cells": [
  {
   "cell_type": "code",
   "execution_count": 46,
   "metadata": {},
   "outputs": [],
   "source": [
    "import os\n",
    "import sys\n",
    "import re\n",
    "from abc import *"
   ]
  },
  {
   "cell_type": "code",
   "execution_count": 28,
   "metadata": {},
   "outputs": [],
   "source": [
    "p = re.compile(\".md$|.markdown$\")"
   ]
  },
  {
   "cell_type": "code",
   "execution_count": 32,
   "metadata": {},
   "outputs": [
    {
     "data": {
      "text/plain": [
       "<_sre.SRE_Match object; span=(2, 5), match='.md'>"
      ]
     },
     "execution_count": 32,
     "metadata": {},
     "output_type": "execute_result"
    }
   ],
   "source": [
    "m = p.search(\"md.md\")\n",
    "m"
   ]
  },
  {
   "cell_type": "code",
   "execution_count": 37,
   "metadata": {},
   "outputs": [
    {
     "name": "stdout",
     "output_type": "stream",
     "text": [
      ". ['.git', '.ipynb_checkpoints'] ['demo.ipynb', 'README.md']\n",
      ".\\.git ['hooks', 'info', 'logs', 'objects', 'refs'] ['COMMIT_EDITMSG', 'config', 'description', 'HEAD', 'index']\n",
      ".\\.git\\hooks [] ['applypatch-msg.sample', 'commit-msg.sample', 'fsmonitor-watchman.sample', 'post-update.sample', 'pre-applypatch.sample', 'pre-commit.sample', 'pre-merge-commit.sample', 'pre-push.sample', 'pre-rebase.sample', 'pre-receive.sample', 'prepare-commit-msg.sample', 'update.sample']\n",
      ".\\.git\\info [] ['exclude']\n",
      ".\\.git\\logs ['refs'] ['HEAD']\n",
      ".\\.git\\logs\\refs ['heads', 'remotes'] []\n",
      ".\\.git\\logs\\refs\\heads [] ['master']\n",
      ".\\.git\\logs\\refs\\remotes ['origin'] []\n",
      ".\\.git\\logs\\refs\\remotes\\origin [] ['master']\n",
      ".\\.git\\objects ['04', '2f', '3e', '5a', '5b', 'info', 'pack'] []\n",
      ".\\.git\\objects\\04 [] ['1b810b0517cffb91788dc6a62af579544c79cf']\n",
      ".\\.git\\objects\\2f [] ['d64429bf421126b7000c94ce0f6fd186fbd01f']\n",
      ".\\.git\\objects\\3e [] ['14b4d8374bb62fcb0de70a50b759a13b4dd2c6']\n",
      ".\\.git\\objects\\5a [] ['186fbd839fa47f73034e5dc72b70a71e1b3247']\n",
      ".\\.git\\objects\\5b [] ['d3f0afe51588b2a03d604d63e12183ed788487']\n",
      ".\\.git\\objects\\info [] []\n",
      ".\\.git\\objects\\pack [] []\n",
      ".\\.git\\refs ['heads', 'remotes', 'tags'] []\n",
      ".\\.git\\refs\\heads [] ['master']\n",
      ".\\.git\\refs\\remotes ['origin'] []\n",
      ".\\.git\\refs\\remotes\\origin [] ['master']\n",
      ".\\.git\\refs\\tags [] []\n",
      ".\\.ipynb_checkpoints [] ['demo-checkpoint.ipynb']\n"
     ]
    }
   ],
   "source": [
    "for root, dir, files in os.walk(\".\") :\n",
    "    print(root, dir, files)"
   ]
  },
  {
   "cell_type": "code",
   "execution_count": 45,
   "metadata": {},
   "outputs": [
    {
     "ename": "IndentationError",
     "evalue": "expected an indented block (<ipython-input-45-8ff2715d00ae>, line 18)",
     "output_type": "error",
     "traceback": [
      "\u001b[1;36m  File \u001b[1;32m\"<ipython-input-45-8ff2715d00ae>\"\u001b[1;36m, line \u001b[1;32m18\u001b[0m\n\u001b[1;33m    '''\u001b[0m\n\u001b[1;37m       \n^\u001b[0m\n\u001b[1;31mIndentationError\u001b[0m\u001b[1;31m:\u001b[0m expected an indented block\n"
     ]
    }
   ],
   "source": [
    "class Marker :\n",
    "    def __init__(self) :\n",
    "        self.pattern = re.compile(\".md$|.markdown$\")\n",
    "    def mark(self) :\n",
    "        md_files = []\n",
    "        for root, dir, files in os.walk(\".\") :\n",
    "            for file in files :\n",
    "                if self.pattern.search(file) is not None :\n",
    "                    md_files.append(root + file)\n",
    "        return md_files\n",
    "    \n",
    "class Sweeper :\n",
    "    def __init__(self) :\n",
    "        \n",
    "        \n",
    "'''\n",
    "# Todo\n",
    "root directory settings\n",
    "ignore folder or file settings\n",
    "'''\n",
    "if __name__ == \"__main__\" :\n",
    "    clean_type = sys.argv[1]\n",
    "    marker = Marker()\n",
    "    l = marker.mark()"
   ]
  },
  {
   "cell_type": "code",
   "execution_count": 44,
   "metadata": {},
   "outputs": [],
   "source": [
    "m = Marker()"
   ]
  },
  {
   "cell_type": "code",
   "execution_count": null,
   "metadata": {},
   "outputs": [],
   "source": []
  }
 ],
 "metadata": {
  "kernelspec": {
   "display_name": "Python 3",
   "language": "python",
   "name": "python3"
  },
  "language_info": {
   "codemirror_mode": {
    "name": "ipython",
    "version": 3
   },
   "file_extension": ".py",
   "mimetype": "text/x-python",
   "name": "python",
   "nbconvert_exporter": "python",
   "pygments_lexer": "ipython3",
   "version": "3.6.5"
  }
 },
 "nbformat": 4,
 "nbformat_minor": 2
}
